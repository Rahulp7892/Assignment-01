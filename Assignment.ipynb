{
 "cells": [
  {
   "cell_type": "code",
   "execution_count": 3,
   "id": "adc317f5-caf4-44d2-a6a3-5263722f05eb",
   "metadata": {},
   "outputs": [],
   "source": [
    "# Q1. Create one variable containing following type of data:"
   ]
  },
  {
   "cell_type": "code",
   "execution_count": 4,
   "id": "222895da-06b6-4838-97f6-706438c3ea97",
   "metadata": {},
   "outputs": [],
   "source": [
    "#(1)string"
   ]
  },
  {
   "cell_type": "code",
   "execution_count": 11,
   "id": "3577108f-c49c-441f-958f-53241268e365",
   "metadata": {},
   "outputs": [],
   "source": [
    "a = \"helo world my name is rahul\""
   ]
  },
  {
   "cell_type": "code",
   "execution_count": 12,
   "id": "4649d150-81ed-4436-b16f-eee4de30f6a5",
   "metadata": {},
   "outputs": [
    {
     "data": {
      "text/plain": [
       "str"
      ]
     },
     "execution_count": 12,
     "metadata": {},
     "output_type": "execute_result"
    }
   ],
   "source": [
    "type(a)"
   ]
  },
  {
   "cell_type": "code",
   "execution_count": 13,
   "id": "3973cb33-0897-4d6a-9cc0-0edd05e031be",
   "metadata": {},
   "outputs": [],
   "source": [
    "# (2)list"
   ]
  },
  {
   "cell_type": "code",
   "execution_count": 27,
   "id": "d5526f3d-b5d9-477c-91c4-757cd335f30a",
   "metadata": {},
   "outputs": [],
   "source": [
    "l = [1,2,3,4,5,6,7, 15 , 7+8j , 2.8 , True]"
   ]
  },
  {
   "cell_type": "code",
   "execution_count": 28,
   "id": "707113ff-d6ee-4db7-8110-fd33effa34d9",
   "metadata": {},
   "outputs": [
    {
     "data": {
      "text/plain": [
       "list"
      ]
     },
     "execution_count": 28,
     "metadata": {},
     "output_type": "execute_result"
    }
   ],
   "source": [
    "type(l)"
   ]
  },
  {
   "cell_type": "code",
   "execution_count": 29,
   "id": "0636d536-fff5-430b-98f6-7c060bff9e25",
   "metadata": {},
   "outputs": [],
   "source": [
    "#(3)float"
   ]
  },
  {
   "cell_type": "code",
   "execution_count": 30,
   "id": "c7fae3d2-3919-49e8-aebe-1a956eafd3e1",
   "metadata": {},
   "outputs": [],
   "source": [
    "c = 3.7"
   ]
  },
  {
   "cell_type": "code",
   "execution_count": 31,
   "id": "220952f8-8156-4f53-a1d2-13b81745e707",
   "metadata": {},
   "outputs": [
    {
     "data": {
      "text/plain": [
       "float"
      ]
     },
     "execution_count": 31,
     "metadata": {},
     "output_type": "execute_result"
    }
   ],
   "source": [
    "type (c)"
   ]
  },
  {
   "cell_type": "code",
   "execution_count": 33,
   "id": "50a217cc-817d-4b54-8910-d979969b2bd2",
   "metadata": {},
   "outputs": [],
   "source": [
    "#(4)tuple"
   ]
  },
  {
   "cell_type": "code",
   "execution_count": 40,
   "id": "94d5e251-034d-4815-9388-0e7f736dcacd",
   "metadata": {},
   "outputs": [],
   "source": [
    "a=(1,2,3,4,5,6,7)"
   ]
  },
  {
   "cell_type": "code",
   "execution_count": 41,
   "id": "5f1843f9-711e-443f-bb89-60bf5898dcf4",
   "metadata": {},
   "outputs": [
    {
     "data": {
      "text/plain": [
       "tuple"
      ]
     },
     "execution_count": 41,
     "metadata": {},
     "output_type": "execute_result"
    }
   ],
   "source": [
    "type (a)"
   ]
  },
  {
   "cell_type": "code",
   "execution_count": 42,
   "id": "881737b1-18ba-4e3e-8a27-095e7dc702b5",
   "metadata": {},
   "outputs": [],
   "source": [
    "#Q2. Given are some following variables containing data :  What will be the data type of the above given variable."
   ]
  },
  {
   "cell_type": "code",
   "execution_count": 43,
   "id": "eb968377-cca3-4015-9f91-1e864c576caa",
   "metadata": {},
   "outputs": [],
   "source": [
    "#(1)var1= ''"
   ]
  },
  {
   "cell_type": "code",
   "execution_count": 45,
   "id": "ea13389e-a9cc-4eab-b2d5-c46f507ccf37",
   "metadata": {},
   "outputs": [],
   "source": [
    "var1=''"
   ]
  },
  {
   "cell_type": "code",
   "execution_count": 46,
   "id": "72765929-dfa6-4ef2-a7d8-46bb76870ca5",
   "metadata": {},
   "outputs": [
    {
     "data": {
      "text/plain": [
       "str"
      ]
     },
     "execution_count": 46,
     "metadata": {},
     "output_type": "execute_result"
    }
   ],
   "source": [
    "type (var1)"
   ]
  },
  {
   "cell_type": "code",
   "execution_count": 47,
   "id": "861b2158-7f4f-4c66-b5c5-b716337dabd4",
   "metadata": {},
   "outputs": [],
   "source": [
    "#(2)var2='[DS,ML,Python]'"
   ]
  },
  {
   "cell_type": "code",
   "execution_count": 48,
   "id": "9c57e5bc-1546-4bb7-b021-f58867e379c4",
   "metadata": {},
   "outputs": [],
   "source": [
    "var2='[DS,ML,Python]'"
   ]
  },
  {
   "cell_type": "code",
   "execution_count": 49,
   "id": "c8271f4e-3a7d-42e4-884f-d5765d93100b",
   "metadata": {},
   "outputs": [
    {
     "data": {
      "text/plain": [
       "str"
      ]
     },
     "execution_count": 49,
     "metadata": {},
     "output_type": "execute_result"
    }
   ],
   "source": [
    "type (var2)"
   ]
  },
  {
   "cell_type": "code",
   "execution_count": 52,
   "id": "12f10c86-03b1-4257-ba20-1a9a695e048b",
   "metadata": {},
   "outputs": [],
   "source": [
    "#(3)var3=['DS','ML','python']"
   ]
  },
  {
   "cell_type": "code",
   "execution_count": 53,
   "id": "7ff226fc-5862-43c2-82fc-39cd1c43f700",
   "metadata": {},
   "outputs": [],
   "source": [
    "var3=['DS','ML','Python']"
   ]
  },
  {
   "cell_type": "code",
   "execution_count": 54,
   "id": "05b1bcc0-00c1-4af5-acf3-208513cbe358",
   "metadata": {},
   "outputs": [
    {
     "data": {
      "text/plain": [
       "list"
      ]
     },
     "execution_count": 54,
     "metadata": {},
     "output_type": "execute_result"
    }
   ],
   "source": [
    "type (var3)"
   ]
  },
  {
   "cell_type": "code",
   "execution_count": 56,
   "id": "eef7b363-93ca-42d1-8b16-ccfa7441cb50",
   "metadata": {},
   "outputs": [],
   "source": [
    "#(4)var4=1."
   ]
  },
  {
   "cell_type": "code",
   "execution_count": 57,
   "id": "bad6095f-3dcf-4f2b-832e-7ac8289eacb8",
   "metadata": {},
   "outputs": [],
   "source": [
    "var4=1."
   ]
  },
  {
   "cell_type": "code",
   "execution_count": 58,
   "id": "d202e261-1af5-4920-afec-93dc9fbd71ac",
   "metadata": {},
   "outputs": [
    {
     "data": {
      "text/plain": [
       "float"
      ]
     },
     "execution_count": 58,
     "metadata": {},
     "output_type": "execute_result"
    }
   ],
   "source": [
    "type (var4)"
   ]
  },
  {
   "cell_type": "code",
   "execution_count": 59,
   "id": "258f491c-e7f6-40e2-9995-f6d9b0ad9886",
   "metadata": {},
   "outputs": [],
   "source": [
    "  #Q3. Explain the use of the following operators using an example:"
   ]
  },
  {
   "cell_type": "code",
   "execution_count": 2,
   "id": "64fd7258-ce5b-49bb-8e24-2ded631ebb4f",
   "metadata": {},
   "outputs": [],
   "source": [
    "#(1)/   "
   ]
  },
  {
   "cell_type": "code",
   "execution_count": 3,
   "id": "8ac23ebd-6337-477f-9b22-c67a46f3f6b8",
   "metadata": {},
   "outputs": [
    {
     "data": {
      "text/plain": [
       "0.5"
      ]
     },
     "execution_count": 3,
     "metadata": {},
     "output_type": "execute_result"
    }
   ],
   "source": [
    "1/2"
   ]
  },
  {
   "cell_type": "code",
   "execution_count": 4,
   "id": "2bcaa177-9282-478d-a0fd-464f39faae65",
   "metadata": {},
   "outputs": [],
   "source": [
    "#(2)%"
   ]
  },
  {
   "cell_type": "code",
   "execution_count": 5,
   "id": "2e766fc3-a2a4-406e-a18d-54707f5aed75",
   "metadata": {},
   "outputs": [
    {
     "data": {
      "text/plain": [
       "4"
      ]
     },
     "execution_count": 5,
     "metadata": {},
     "output_type": "execute_result"
    }
   ],
   "source": [
    "4%7"
   ]
  },
  {
   "cell_type": "code",
   "execution_count": 6,
   "id": "bf1d5229-020b-4d68-b01b-f49b69c1025c",
   "metadata": {},
   "outputs": [],
   "source": [
    "#(3)//"
   ]
  },
  {
   "cell_type": "code",
   "execution_count": 13,
   "id": "e726dc15-d31a-4f8b-ac53-d0feaf0f2925",
   "metadata": {},
   "outputs": [
    {
     "data": {
      "text/plain": [
       "2"
      ]
     },
     "execution_count": 13,
     "metadata": {},
     "output_type": "execute_result"
    }
   ],
   "source": [
    "9//4"
   ]
  },
  {
   "cell_type": "code",
   "execution_count": 14,
   "id": "d5d8eb8e-419b-49dc-973c-43801f442b0c",
   "metadata": {},
   "outputs": [],
   "source": [
    "#(4)**"
   ]
  },
  {
   "cell_type": "code",
   "execution_count": 19,
   "id": "d1c3432d-46f7-4e4e-850d-6fdcb66e9576",
   "metadata": {},
   "outputs": [
    {
     "data": {
      "text/plain": [
       "1331"
      ]
     },
     "execution_count": 19,
     "metadata": {},
     "output_type": "execute_result"
    }
   ],
   "source": [
    "11**3"
   ]
  },
  {
   "cell_type": "code",
   "execution_count": 20,
   "id": "11176004-87a9-4ea1-aa3f-41d56eef82a5",
   "metadata": {},
   "outputs": [],
   "source": [
    "#Q(4) Create a list of length 10 of your choise containining multiple types of data . ue.sing for loop print the element and its data type."
   ]
  },
  {
   "cell_type": "code",
   "execution_count": 31,
   "id": "cf0b24b8-3f39-430e-a037-52d2f3bbbe0c",
   "metadata": {},
   "outputs": [],
   "source": [
    "a=1"
   ]
  },
  {
   "cell_type": "code",
   "execution_count": 32,
   "id": "d3aaffe1-4fe5-43fc-836c-a79354c3c460",
   "metadata": {},
   "outputs": [
    {
     "data": {
      "text/plain": [
       "int"
      ]
     },
     "execution_count": 32,
     "metadata": {},
     "output_type": "execute_result"
    }
   ],
   "source": [
    "type(a)"
   ]
  },
  {
   "cell_type": "code",
   "execution_count": 27,
   "id": "5a8da8fb-c3f4-46a9-894a-395e3bf7795c",
   "metadata": {},
   "outputs": [],
   "source": [
    "b = \"rahul\""
   ]
  },
  {
   "cell_type": "code",
   "execution_count": 28,
   "id": "84ba0bbf-7052-4cc7-93d6-e5f0088b88d6",
   "metadata": {},
   "outputs": [
    {
     "data": {
      "text/plain": [
       "str"
      ]
     },
     "execution_count": 28,
     "metadata": {},
     "output_type": "execute_result"
    }
   ],
   "source": [
    "type (b)"
   ]
  },
  {
   "cell_type": "code",
   "execution_count": 33,
   "id": "f1ffec04-b708-465d-9b49-7360c64722d4",
   "metadata": {},
   "outputs": [],
   "source": [
    "c = 2.8"
   ]
  },
  {
   "cell_type": "code",
   "execution_count": 34,
   "id": "fba89850-5143-4d17-9233-8b43dbdc23f1",
   "metadata": {},
   "outputs": [
    {
     "data": {
      "text/plain": [
       "float"
      ]
     },
     "execution_count": 34,
     "metadata": {},
     "output_type": "execute_result"
    }
   ],
   "source": [
    "type (c)"
   ]
  },
  {
   "cell_type": "code",
   "execution_count": 39,
   "id": "833ab7c6-cd1b-450c-89c9-cceade19b5d3",
   "metadata": {},
   "outputs": [],
   "source": [
    "d = 6+7j"
   ]
  },
  {
   "cell_type": "code",
   "execution_count": 40,
   "id": "71dff93c-b12a-4130-8733-632a8c97644a",
   "metadata": {},
   "outputs": [
    {
     "data": {
      "text/plain": [
       "complex"
      ]
     },
     "execution_count": 40,
     "metadata": {},
     "output_type": "execute_result"
    }
   ],
   "source": [
    "type (d)"
   ]
  },
  {
   "cell_type": "code",
   "execution_count": 41,
   "id": "bfe56a55-148b-4ff6-8958-8266928e3e34",
   "metadata": {},
   "outputs": [],
   "source": [
    "e=True"
   ]
  },
  {
   "cell_type": "code",
   "execution_count": 42,
   "id": "5f938d44-154f-4116-95c1-9b38bce895f9",
   "metadata": {},
   "outputs": [
    {
     "data": {
      "text/plain": [
       "bool"
      ]
     },
     "execution_count": 42,
     "metadata": {},
     "output_type": "execute_result"
    }
   ],
   "source": [
    "type (e)"
   ]
  },
  {
   "cell_type": "code",
   "execution_count": 70,
   "id": "d649a832-cb44-43c7-b453-188fdcaf9499",
   "metadata": {},
   "outputs": [],
   "source": [
    "f= (1,2,3,4,5,6,7,8,9,10)"
   ]
  },
  {
   "cell_type": "code",
   "execution_count": 71,
   "id": "26f41d99-ebcb-4967-a858-461b1a1a01aa",
   "metadata": {},
   "outputs": [
    {
     "data": {
      "text/plain": [
       "tuple"
      ]
     },
     "execution_count": 71,
     "metadata": {},
     "output_type": "execute_result"
    }
   ],
   "source": [
    "type (f)"
   ]
  },
  {
   "cell_type": "code",
   "execution_count": 67,
   "id": "130e18ce-8ea7-4155-a91b-911c681c8ed2",
   "metadata": {},
   "outputs": [],
   "source": [
    "l= [1,2,3,4,5, 2+3, 7+9j, 2.8, 2, True, \"Radha\"]"
   ]
  },
  {
   "cell_type": "code",
   "execution_count": 63,
   "id": "b29d32d1-be3e-422b-945a-af4203ff5eb7",
   "metadata": {},
   "outputs": [
    {
     "data": {
      "text/plain": [
       "list"
      ]
     },
     "execution_count": 63,
     "metadata": {},
     "output_type": "execute_result"
    }
   ],
   "source": [
    "type (l)"
   ]
  },
  {
   "cell_type": "code",
   "execution_count": 72,
   "id": "4d5e3d7e-e4b3-4df8-9514-f28555019a47",
   "metadata": {},
   "outputs": [],
   "source": [
    "g= (\"ram\", '2.8', '8', \"Radha\")"
   ]
  },
  {
   "cell_type": "code",
   "execution_count": 73,
   "id": "547972cf-3b1b-49b9-956e-9726541ab428",
   "metadata": {},
   "outputs": [
    {
     "data": {
      "text/plain": [
       "tuple"
      ]
     },
     "execution_count": 73,
     "metadata": {},
     "output_type": "execute_result"
    }
   ],
   "source": [
    "type (g)"
   ]
  },
  {
   "cell_type": "code",
   "execution_count": 74,
   "id": "5b8ff1d0-82a8-4a64-88e7-7ff87e9f2935",
   "metadata": {},
   "outputs": [],
   "source": [
    "y='ab'"
   ]
  },
  {
   "cell_type": "code",
   "execution_count": 75,
   "id": "dd74e487-3bbb-4fd5-8915-e052a7cc0621",
   "metadata": {},
   "outputs": [
    {
     "data": {
      "text/plain": [
       "str"
      ]
     },
     "execution_count": 75,
     "metadata": {},
     "output_type": "execute_result"
    }
   ],
   "source": [
    "type (y)"
   ]
  },
  {
   "cell_type": "code",
   "execution_count": 76,
   "id": "06413c5b-d2f8-4ade-8338-df87fc37fe4d",
   "metadata": {},
   "outputs": [],
   "source": [
    "z = 7+7j"
   ]
  },
  {
   "cell_type": "code",
   "execution_count": 77,
   "id": "1106eca7-9b06-45f3-9c19-16e58d92f4b4",
   "metadata": {},
   "outputs": [
    {
     "data": {
      "text/plain": [
       "complex"
      ]
     },
     "execution_count": 77,
     "metadata": {},
     "output_type": "execute_result"
    }
   ],
   "source": [
    "type (z)"
   ]
  },
  {
   "cell_type": "code",
   "execution_count": 1,
   "id": "5d20cd45-bd9b-43eb-8a52-4a86193967e3",
   "metadata": {},
   "outputs": [
    {
     "name": "stdout",
     "output_type": "stream",
     "text": [
      "10 <class 'int'>\n",
      "ab <class 'str'>\n",
      "(7+7j) <class 'complex'>\n",
      "ram <class 'str'>\n",
      "2.8 <class 'str'>\n",
      "8 <class 'str'>\n",
      "Radha <class 'str'>\n",
      "1 <class 'int'>\n",
      "2 <class 'int'>\n",
      "3 <class 'int'>\n",
      "4 <class 'int'>\n",
      "5 <class 'int'>\n",
      "5 <class 'int'>\n",
      "(7+9j) <class 'complex'>\n",
      "2.8 <class 'float'>\n",
      "2 <class 'int'>\n",
      "True <class 'bool'>\n",
      "Radha <class 'str'>\n"
     ]
    }
   ],
   "source": [
    "l = [10,\"ab\", 7+7j , \"ram\",'2.8','8',\"Radha\", 1,2,3,4,5, 2+3, 7+9j, 2.8, 2, True, \"Radha\"]\n",
    "for v in l:\n",
    "    print(v,type(v))"
   ]
  },
  {
   "cell_type": "code",
   "execution_count": 2,
   "id": "e8ba757e-c8c5-4473-95e8-054df8ff2308",
   "metadata": {},
   "outputs": [],
   "source": [
    "#Q Using a while loop,verify if the number A is purely divisible by number B and if so then how many times it can be divisible. "
   ]
  },
  {
   "cell_type": "code",
   "execution_count": 5,
   "id": "0e3a037b-d4cf-42e0-9cac-a7f39cfe3d7b",
   "metadata": {},
   "outputs": [
    {
     "name": "stdout",
     "output_type": "stream",
     "text": [
      "7\n",
      "8\n",
      "9\n"
     ]
    }
   ],
   "source": [
    "a= 10\n",
    "b= 7\n",
    "while b < a :\n",
    "    print (b)\n",
    "    b = b+1"
   ]
  },
  {
   "cell_type": "code",
   "execution_count": 7,
   "id": "409111c3-06e8-4d76-be88-36890fd58560",
   "metadata": {},
   "outputs": [
    {
     "name": "stdout",
     "output_type": "stream",
     "text": [
      "7\n",
      "8\n",
      "9\n",
      "this is my else\n"
     ]
    }
   ],
   "source": [
    "a = 10\n",
    "b = 7\n",
    "while b < a :\n",
    "    print(b)\n",
    "    b = b+1\n",
    "else :\n",
    "    print(\"this is my else\")"
   ]
  },
  {
   "cell_type": "code",
   "execution_count": 8,
   "id": "05541b69-f258-41f2-a409-4bdab59cd38a",
   "metadata": {},
   "outputs": [],
   "source": [
    "#Q. Create a list containing 25 int type data. Using for loop and if-else condition print if the element is divisible by 3 or not."
   ]
  },
  {
   "cell_type": "code",
   "execution_count": 9,
   "id": "654c86e1-cc40-42df-a2d4-cbf345a2c88e",
   "metadata": {},
   "outputs": [],
   "source": [
    "a=2"
   ]
  },
  {
   "cell_type": "code",
   "execution_count": 10,
   "id": "1992596e-8d3f-473f-abee-35f04ce01ac2",
   "metadata": {},
   "outputs": [
    {
     "data": {
      "text/plain": [
       "int"
      ]
     },
     "execution_count": 10,
     "metadata": {},
     "output_type": "execute_result"
    }
   ],
   "source": [
    "type (a)"
   ]
  },
  {
   "cell_type": "code",
   "execution_count": 14,
   "id": "fa143e6f-2eb2-4a73-877b-c941cd98cbd3",
   "metadata": {},
   "outputs": [],
   "source": [
    "a = 10"
   ]
  },
  {
   "cell_type": "code",
   "execution_count": 15,
   "id": "909d9b3e-f2f5-405a-a349-9e72c0406eca",
   "metadata": {},
   "outputs": [
    {
     "data": {
      "text/plain": [
       "int"
      ]
     },
     "execution_count": 15,
     "metadata": {},
     "output_type": "execute_result"
    }
   ],
   "source": [
    "type (a)"
   ]
  },
  {
   "cell_type": "code",
   "execution_count": 16,
   "id": "a205bbe7-9965-43a9-b81b-00c1655a1d22",
   "metadata": {},
   "outputs": [],
   "source": [
    "b = 100"
   ]
  },
  {
   "cell_type": "code",
   "execution_count": 17,
   "id": "015b4509-77a9-4c5e-8304-b18d4bc23d59",
   "metadata": {},
   "outputs": [
    {
     "data": {
      "text/plain": [
       "int"
      ]
     },
     "execution_count": 17,
     "metadata": {},
     "output_type": "execute_result"
    }
   ],
   "source": [
    "type (b)"
   ]
  },
  {
   "cell_type": "code",
   "execution_count": 18,
   "id": "f8a93225-2dd5-4942-8254-6e68bb07e6ec",
   "metadata": {},
   "outputs": [],
   "source": [
    "c = 20"
   ]
  },
  {
   "cell_type": "code",
   "execution_count": 19,
   "id": "e5aecc0e-4acd-4722-b3c0-7d7da33448b9",
   "metadata": {},
   "outputs": [
    {
     "data": {
      "text/plain": [
       "int"
      ]
     },
     "execution_count": 19,
     "metadata": {},
     "output_type": "execute_result"
    }
   ],
   "source": [
    "type (c)"
   ]
  },
  {
   "cell_type": "code",
   "execution_count": 20,
   "id": "43d96919-2195-4df8-9c68-41210baf743c",
   "metadata": {},
   "outputs": [],
   "source": [
    "d=35"
   ]
  },
  {
   "cell_type": "code",
   "execution_count": 21,
   "id": "f7a43d3a-d45f-437c-911b-cd6a712e354f",
   "metadata": {},
   "outputs": [
    {
     "data": {
      "text/plain": [
       "int"
      ]
     },
     "execution_count": 21,
     "metadata": {},
     "output_type": "execute_result"
    }
   ],
   "source": [
    "type (d)"
   ]
  },
  {
   "cell_type": "code",
   "execution_count": 22,
   "id": "99535e18-e232-454a-8601-6f869a6f4e75",
   "metadata": {},
   "outputs": [],
   "source": [
    "e = 45"
   ]
  },
  {
   "cell_type": "code",
   "execution_count": 23,
   "id": "970b75ae-2ae4-4c31-8a8f-6e43a33d4b14",
   "metadata": {},
   "outputs": [
    {
     "data": {
      "text/plain": [
       "int"
      ]
     },
     "execution_count": 23,
     "metadata": {},
     "output_type": "execute_result"
    }
   ],
   "source": [
    "type (e)"
   ]
  },
  {
   "cell_type": "code",
   "execution_count": 24,
   "id": "d2bfb6a5-2b58-47ad-98aa-f849a82cf072",
   "metadata": {},
   "outputs": [],
   "source": [
    "f = 78"
   ]
  },
  {
   "cell_type": "code",
   "execution_count": 25,
   "id": "23908a9f-4f7c-4f40-8442-af8d2de59a38",
   "metadata": {},
   "outputs": [
    {
     "data": {
      "text/plain": [
       "int"
      ]
     },
     "execution_count": 25,
     "metadata": {},
     "output_type": "execute_result"
    }
   ],
   "source": [
    "type (f)"
   ]
  },
  {
   "cell_type": "code",
   "execution_count": 26,
   "id": "114bb276-10c9-453e-aea9-10c234fa8f12",
   "metadata": {},
   "outputs": [],
   "source": [
    "g = 96"
   ]
  },
  {
   "cell_type": "code",
   "execution_count": 27,
   "id": "2cfcb391-9b90-485a-afac-c56b5374197b",
   "metadata": {},
   "outputs": [
    {
     "data": {
      "text/plain": [
       "int"
      ]
     },
     "execution_count": 27,
     "metadata": {},
     "output_type": "execute_result"
    }
   ],
   "source": [
    "type (g)"
   ]
  },
  {
   "cell_type": "code",
   "execution_count": 28,
   "id": "0f4ac0d4-a063-4987-8a98-ea4aa0d4773a",
   "metadata": {},
   "outputs": [],
   "source": [
    "h=74"
   ]
  },
  {
   "cell_type": "code",
   "execution_count": 29,
   "id": "9c3e740f-8d5f-46cb-b281-b677dea3775e",
   "metadata": {},
   "outputs": [
    {
     "data": {
      "text/plain": [
       "int"
      ]
     },
     "execution_count": 29,
     "metadata": {},
     "output_type": "execute_result"
    }
   ],
   "source": [
    "type (h)"
   ]
  },
  {
   "cell_type": "code",
   "execution_count": 30,
   "id": "56d0e34c-b41e-4a90-9a92-56ef590094ab",
   "metadata": {},
   "outputs": [],
   "source": [
    "i = 89"
   ]
  },
  {
   "cell_type": "code",
   "execution_count": 31,
   "id": "d650cbc1-97db-41ce-bdd1-9fce1ab66731",
   "metadata": {},
   "outputs": [
    {
     "data": {
      "text/plain": [
       "int"
      ]
     },
     "execution_count": 31,
     "metadata": {},
     "output_type": "execute_result"
    }
   ],
   "source": [
    "type(i)"
   ]
  },
  {
   "cell_type": "code",
   "execution_count": 32,
   "id": "ce98605f-b456-44fb-8d5d-08ecc579bff1",
   "metadata": {},
   "outputs": [],
   "source": [
    "j = 98"
   ]
  },
  {
   "cell_type": "code",
   "execution_count": 33,
   "id": "5412e973-ef70-4f5e-a713-45c4e3efcb8e",
   "metadata": {},
   "outputs": [
    {
     "data": {
      "text/plain": [
       "int"
      ]
     },
     "execution_count": 33,
     "metadata": {},
     "output_type": "execute_result"
    }
   ],
   "source": [
    "type (j)"
   ]
  },
  {
   "cell_type": "code",
   "execution_count": 34,
   "id": "6422cddb-8692-48ff-ac52-5b0590ea82ef",
   "metadata": {},
   "outputs": [],
   "source": [
    "k = 85"
   ]
  },
  {
   "cell_type": "code",
   "execution_count": 35,
   "id": "ee9cc630-0e3c-4c16-84dc-c7cab545cdd3",
   "metadata": {},
   "outputs": [
    {
     "data": {
      "text/plain": [
       "int"
      ]
     },
     "execution_count": 35,
     "metadata": {},
     "output_type": "execute_result"
    }
   ],
   "source": [
    "type (k)"
   ]
  },
  {
   "cell_type": "code",
   "execution_count": 36,
   "id": "9aa3339c-63ef-4984-8cca-46d030b993b2",
   "metadata": {},
   "outputs": [],
   "source": [
    "l = 79"
   ]
  },
  {
   "cell_type": "code",
   "execution_count": 37,
   "id": "5766db3c-ab9a-4cdb-a6a8-bb9e9583a357",
   "metadata": {},
   "outputs": [
    {
     "data": {
      "text/plain": [
       "int"
      ]
     },
     "execution_count": 37,
     "metadata": {},
     "output_type": "execute_result"
    }
   ],
   "source": [
    "type (l)"
   ]
  },
  {
   "cell_type": "code",
   "execution_count": 38,
   "id": "d66e8f0a-828c-494a-8b66-a0201ef98bd7",
   "metadata": {},
   "outputs": [],
   "source": [
    "m = 32"
   ]
  },
  {
   "cell_type": "code",
   "execution_count": 39,
   "id": "bd43a8bf-cc75-4764-95f1-10d9f1846563",
   "metadata": {},
   "outputs": [
    {
     "data": {
      "text/plain": [
       "int"
      ]
     },
     "execution_count": 39,
     "metadata": {},
     "output_type": "execute_result"
    }
   ],
   "source": [
    "type (m)"
   ]
  },
  {
   "cell_type": "code",
   "execution_count": 40,
   "id": "a1555ebf-7ab9-42cb-8a9f-6037ef19c5d1",
   "metadata": {},
   "outputs": [],
   "source": [
    "n = 456"
   ]
  },
  {
   "cell_type": "code",
   "execution_count": 41,
   "id": "dd8b92d2-037b-4008-b234-010ef1c0b581",
   "metadata": {},
   "outputs": [
    {
     "data": {
      "text/plain": [
       "int"
      ]
     },
     "execution_count": 41,
     "metadata": {},
     "output_type": "execute_result"
    }
   ],
   "source": [
    "type (n)"
   ]
  },
  {
   "cell_type": "code",
   "execution_count": 42,
   "id": "73cd06da-2f87-4f45-9b69-4e2b8a2220fd",
   "metadata": {},
   "outputs": [],
   "source": [
    "o = 36"
   ]
  },
  {
   "cell_type": "code",
   "execution_count": 43,
   "id": "c803c86d-a414-4a11-856a-46fffd4232f6",
   "metadata": {},
   "outputs": [
    {
     "data": {
      "text/plain": [
       "int"
      ]
     },
     "execution_count": 43,
     "metadata": {},
     "output_type": "execute_result"
    }
   ],
   "source": [
    "type (o)"
   ]
  },
  {
   "cell_type": "code",
   "execution_count": 44,
   "id": "74f60918-5974-4b2c-a7cd-716ab1fa8257",
   "metadata": {},
   "outputs": [],
   "source": [
    "p = 25"
   ]
  },
  {
   "cell_type": "code",
   "execution_count": 45,
   "id": "2ca9f259-88d8-460a-b8e4-7a10d59f8617",
   "metadata": {},
   "outputs": [
    {
     "data": {
      "text/plain": [
       "int"
      ]
     },
     "execution_count": 45,
     "metadata": {},
     "output_type": "execute_result"
    }
   ],
   "source": [
    "type (p)"
   ]
  },
  {
   "cell_type": "code",
   "execution_count": 46,
   "id": "fef66400-2b42-4399-93fb-a234607cf8fc",
   "metadata": {},
   "outputs": [],
   "source": [
    "q = 335"
   ]
  },
  {
   "cell_type": "code",
   "execution_count": 47,
   "id": "44f2e27e-68ec-4887-ab71-9ba4d6c7f768",
   "metadata": {},
   "outputs": [
    {
     "data": {
      "text/plain": [
       "int"
      ]
     },
     "execution_count": 47,
     "metadata": {},
     "output_type": "execute_result"
    }
   ],
   "source": [
    "type (q)"
   ]
  },
  {
   "cell_type": "code",
   "execution_count": 48,
   "id": "14990787-9555-4350-9552-5d15d75544c7",
   "metadata": {},
   "outputs": [],
   "source": [
    "r = 852"
   ]
  },
  {
   "cell_type": "code",
   "execution_count": 57,
   "id": "1d6e110c-fc03-47c2-acdf-b2c43670b0f4",
   "metadata": {},
   "outputs": [
    {
     "data": {
      "text/plain": [
       "int"
      ]
     },
     "execution_count": 57,
     "metadata": {},
     "output_type": "execute_result"
    }
   ],
   "source": [
    "type (r)"
   ]
  },
  {
   "cell_type": "code",
   "execution_count": 50,
   "id": "51245eff-9969-47c2-b009-cef855ebf092",
   "metadata": {},
   "outputs": [],
   "source": [
    "s  = 7899"
   ]
  },
  {
   "cell_type": "code",
   "execution_count": 51,
   "id": "72164815-41ba-45eb-84d9-91f4753a5e69",
   "metadata": {},
   "outputs": [
    {
     "data": {
      "text/plain": [
       "int"
      ]
     },
     "execution_count": 51,
     "metadata": {},
     "output_type": "execute_result"
    }
   ],
   "source": [
    "type (s)"
   ]
  },
  {
   "cell_type": "code",
   "execution_count": 52,
   "id": "c52de89e-b8ff-453c-9c2b-f3ce6f23f3e1",
   "metadata": {},
   "outputs": [],
   "source": [
    "t = 3697"
   ]
  },
  {
   "cell_type": "code",
   "execution_count": 53,
   "id": "face107a-15a0-4fb1-a53f-f74929a4ce35",
   "metadata": {},
   "outputs": [
    {
     "data": {
      "text/plain": [
       "int"
      ]
     },
     "execution_count": 53,
     "metadata": {},
     "output_type": "execute_result"
    }
   ],
   "source": [
    "type (t)"
   ]
  },
  {
   "cell_type": "code",
   "execution_count": 54,
   "id": "13ac08d4-2d86-44dc-aa56-2aa7cdac3d4a",
   "metadata": {},
   "outputs": [],
   "source": [
    "u = 684"
   ]
  },
  {
   "cell_type": "code",
   "execution_count": 55,
   "id": "1f6a4494-8c61-4cb1-b498-290c2ab47865",
   "metadata": {},
   "outputs": [
    {
     "data": {
      "text/plain": [
       "int"
      ]
     },
     "execution_count": 55,
     "metadata": {},
     "output_type": "execute_result"
    }
   ],
   "source": [
    "type (u)"
   ]
  },
  {
   "cell_type": "code",
   "execution_count": 56,
   "id": "0e4e2f67-cd9e-451b-bbc6-d38f06ee051d",
   "metadata": {},
   "outputs": [],
   "source": [
    "v = 9634"
   ]
  },
  {
   "cell_type": "code",
   "execution_count": 58,
   "id": "887dec80-9590-4468-a0fa-e8695097be6d",
   "metadata": {},
   "outputs": [
    {
     "data": {
      "text/plain": [
       "int"
      ]
     },
     "execution_count": 58,
     "metadata": {},
     "output_type": "execute_result"
    }
   ],
   "source": [
    "type (v)"
   ]
  },
  {
   "cell_type": "code",
   "execution_count": 59,
   "id": "3ab2100f-e656-42fe-9f7a-164a87299652",
   "metadata": {},
   "outputs": [],
   "source": [
    "w = 8526"
   ]
  },
  {
   "cell_type": "code",
   "execution_count": 60,
   "id": "bd70ec36-f074-4ba9-952b-60738c510f84",
   "metadata": {},
   "outputs": [
    {
     "data": {
      "text/plain": [
       "int"
      ]
     },
     "execution_count": 60,
     "metadata": {},
     "output_type": "execute_result"
    }
   ],
   "source": [
    "type (w)"
   ]
  },
  {
   "cell_type": "code",
   "execution_count": 61,
   "id": "d666c458-f99b-4cfb-ac6e-678dc1b98628",
   "metadata": {},
   "outputs": [],
   "source": [
    "x = 8596"
   ]
  },
  {
   "cell_type": "code",
   "execution_count": 62,
   "id": "f6acbeb7-4aa0-4a2a-a05c-d91ec6b2a1b7",
   "metadata": {},
   "outputs": [
    {
     "data": {
      "text/plain": [
       "int"
      ]
     },
     "execution_count": 62,
     "metadata": {},
     "output_type": "execute_result"
    }
   ],
   "source": [
    "type (x)"
   ]
  },
  {
   "cell_type": "code",
   "execution_count": 63,
   "id": "61718221-0ef1-413b-bbda-5a370b8d726d",
   "metadata": {},
   "outputs": [],
   "source": [
    "y = 9844"
   ]
  },
  {
   "cell_type": "code",
   "execution_count": 64,
   "id": "e1528f88-f7ea-46f7-81ca-7d86d6323a69",
   "metadata": {},
   "outputs": [
    {
     "data": {
      "text/plain": [
       "int"
      ]
     },
     "execution_count": 64,
     "metadata": {},
     "output_type": "execute_result"
    }
   ],
   "source": [
    "type (y)"
   ]
  },
  {
   "cell_type": "code",
   "execution_count": 11,
   "id": "4f5fbb67-0c2c-4638-bc31-69b147eb558f",
   "metadata": {},
   "outputs": [
    {
     "name": "stdout",
     "output_type": "stream",
     "text": [
      "this is my defalut\n"
     ]
    }
   ],
   "source": [
    "d = 3\n",
    "if d > 7 :\n",
    "    print(\"yes d is greater than 7\")\n",
    "elif d > 20 :\n",
    "    print(\"yes d is leser than 20\")\n",
    "else :\n",
    "    print(\"this is my defalut\")"
   ]
  },
  {
   "cell_type": "code",
   "execution_count": 12,
   "id": "0807e6d7-123a-4a61-9422-79dace39c630",
   "metadata": {},
   "outputs": [],
   "source": [
    "#Q7. What do you undastand about mutable and immutable data types?Give examples for both showing this property."
   ]
  },
  {
   "cell_type": "code",
   "execution_count": 13,
   "id": "c28f47dc-f68e-452b-8669-37e91b3ffa4a",
   "metadata": {},
   "outputs": [],
   "source": [
    "# Ans : Mutable object are those that allow you to change their value pr data in place without affecting the objects identity. In contrast,immutable objects don't allow this kind of operation. You'll Just have the option of creating new objects of the same type with different values."
   ]
  },
  {
   "cell_type": "code",
   "execution_count": 14,
   "id": "c152102c-1244-4c62-ab03-10b845d9b162",
   "metadata": {},
   "outputs": [],
   "source": [
    "# For Example"
   ]
  },
  {
   "cell_type": "code",
   "execution_count": 1,
   "id": "538d7539-be66-4fb5-8c1f-3d5d25e043a5",
   "metadata": {},
   "outputs": [],
   "source": [
    "s = 'raghu'"
   ]
  },
  {
   "cell_type": "code",
   "execution_count": 2,
   "id": "55333d66-1134-49dd-abc3-2571d93eed23",
   "metadata": {},
   "outputs": [],
   "source": [
    "s1 = 'raghuvanshi'"
   ]
  },
  {
   "cell_type": "code",
   "execution_count": 3,
   "id": "283bcfac-3efb-4f98-84c2-6b530129320f",
   "metadata": {},
   "outputs": [
    {
     "data": {
      "text/plain": [
       "str"
      ]
     },
     "execution_count": 3,
     "metadata": {},
     "output_type": "execute_result"
    }
   ],
   "source": [
    "type (s)"
   ]
  },
  {
   "cell_type": "code",
   "execution_count": 4,
   "id": "82554744-2532-496b-9374-bb0843c9b63c",
   "metadata": {},
   "outputs": [
    {
     "data": {
      "text/plain": [
       "str"
      ]
     },
     "execution_count": 4,
     "metadata": {},
     "output_type": "execute_result"
    }
   ],
   "source": [
    "type (s1)"
   ]
  },
  {
   "cell_type": "code",
   "execution_count": 9,
   "id": "06e51e7c-11b7-434d-bbc2-f1d859c4d5c6",
   "metadata": {},
   "outputs": [],
   "source": [
    "l = [1,2,3,4,5,6,7,\"raghu\" ,5+9j , True , 34.58]"
   ]
  },
  {
   "cell_type": "code",
   "execution_count": 10,
   "id": "ff9b4dbe-8562-4fa9-b7a8-a84846811e33",
   "metadata": {},
   "outputs": [
    {
     "data": {
      "text/plain": [
       "list"
      ]
     },
     "execution_count": 10,
     "metadata": {},
     "output_type": "execute_result"
    }
   ],
   "source": [
    "type(l)"
   ]
  },
  {
   "cell_type": "code",
   "execution_count": 11,
   "id": "87e1268a-8a3d-4ab4-b71a-bd373c656a7e",
   "metadata": {},
   "outputs": [
    {
     "data": {
      "text/plain": [
       "'raghu'"
      ]
     },
     "execution_count": 11,
     "metadata": {},
     "output_type": "execute_result"
    }
   ],
   "source": [
    "s"
   ]
  },
  {
   "cell_type": "code",
   "execution_count": 12,
   "id": "ff34a570-d7ce-4cd7-b3cc-48c17eabf2c2",
   "metadata": {},
   "outputs": [
    {
     "data": {
      "text/plain": [
       "'r'"
      ]
     },
     "execution_count": 12,
     "metadata": {},
     "output_type": "execute_result"
    }
   ],
   "source": [
    "s[0]"
   ]
  },
  {
   "cell_type": "code",
   "execution_count": 13,
   "id": "79f63126-44c2-4425-b66c-492646927e05",
   "metadata": {},
   "outputs": [
    {
     "data": {
      "text/plain": [
       "'g'"
      ]
     },
     "execution_count": 13,
     "metadata": {},
     "output_type": "execute_result"
    }
   ],
   "source": [
    "s[2]"
   ]
  },
  {
   "cell_type": "code",
   "execution_count": 14,
   "id": "46e0ad56-3e1a-4ff2-ab9c-6606101ea429",
   "metadata": {},
   "outputs": [
    {
     "data": {
      "text/plain": [
       "[1, 2, 3, 4, 5, 6, 7, 'raghu', (5+9j), True, 34.58]"
      ]
     },
     "execution_count": 14,
     "metadata": {},
     "output_type": "execute_result"
    }
   ],
   "source": [
    "l"
   ]
  },
  {
   "cell_type": "code",
   "execution_count": 15,
   "id": "54bf44eb-5abe-41f0-b11c-dfeffadd11dc",
   "metadata": {},
   "outputs": [
    {
     "data": {
      "text/plain": [
       "(5+9j)"
      ]
     },
     "execution_count": 15,
     "metadata": {},
     "output_type": "execute_result"
    }
   ],
   "source": [
    "l[8]"
   ]
  },
  {
   "cell_type": "code",
   "execution_count": 16,
   "id": "f21b8fe0-61bd-41d7-950c-70ff977ddab1",
   "metadata": {},
   "outputs": [
    {
     "data": {
      "text/plain": [
       "'raghu'"
      ]
     },
     "execution_count": 16,
     "metadata": {},
     "output_type": "execute_result"
    }
   ],
   "source": [
    "l[-4]"
   ]
  },
  {
   "cell_type": "code",
   "execution_count": 17,
   "id": "15a08efc-6117-4ea6-8e05-1799cb782c78",
   "metadata": {},
   "outputs": [
    {
     "data": {
      "text/plain": [
       "2"
      ]
     },
     "execution_count": 17,
     "metadata": {},
     "output_type": "execute_result"
    }
   ],
   "source": [
    "l[1]"
   ]
  },
  {
   "cell_type": "code",
   "execution_count": 18,
   "id": "3cc22901-ee31-4cd2-aaca-6e391789f764",
   "metadata": {},
   "outputs": [],
   "source": [
    "l[1] = 200"
   ]
  },
  {
   "cell_type": "code",
   "execution_count": 19,
   "id": "542dd3fa-5154-412e-ab2a-95c5c58ba37c",
   "metadata": {},
   "outputs": [
    {
     "data": {
      "text/plain": [
       "[1, 200, 3, 4, 5, 6, 7, 'raghu', (5+9j), True, 34.58]"
      ]
     },
     "execution_count": 19,
     "metadata": {},
     "output_type": "execute_result"
    }
   ],
   "source": [
    "l"
   ]
  },
  {
   "cell_type": "code",
   "execution_count": 24,
   "id": "3b0cf996-3b22-4919-8cc9-ede9be9b3b28",
   "metadata": {},
   "outputs": [],
   "source": [
    "l[6] = \"Rahul\""
   ]
  },
  {
   "cell_type": "code",
   "execution_count": 25,
   "id": "ec9d1a4c-225d-4bc1-8a4d-9f0a9be8b945",
   "metadata": {},
   "outputs": [
    {
     "data": {
      "text/plain": [
       "[1, 200, 3, 4, 5, 6, 'Rahul', 'raghu', (5+9j), True, 34.58]"
      ]
     },
     "execution_count": 25,
     "metadata": {},
     "output_type": "execute_result"
    }
   ],
   "source": [
    "l"
   ]
  },
  {
   "cell_type": "code",
   "execution_count": 26,
   "id": "3abfee08-00f1-4766-90b4-bb4b8ebfa772",
   "metadata": {},
   "outputs": [
    {
     "data": {
      "text/plain": [
       "'raghu'"
      ]
     },
     "execution_count": 26,
     "metadata": {},
     "output_type": "execute_result"
    }
   ],
   "source": [
    "s"
   ]
  },
  {
   "cell_type": "code",
   "execution_count": 1,
   "id": "1294ab49-57e1-4ec3-a816-fecdba843cce",
   "metadata": {},
   "outputs": [],
   "source": [
    "# this example proof list is mutable data type and string is immutable data type"
   ]
  },
  {
   "cell_type": "code",
   "execution_count": 2,
   "id": "aa53238a-e72e-4469-8b94-909cc96d014e",
   "metadata": {},
   "outputs": [],
   "source": [
    "#Im immutable Example"
   ]
  },
  {
   "cell_type": "code",
   "execution_count": 3,
   "id": "cb0588a8-e0be-41a2-9eb9-a312f5777cc2",
   "metadata": {},
   "outputs": [],
   "source": [
    "t =(1,2,3,)"
   ]
  },
  {
   "cell_type": "code",
   "execution_count": 4,
   "id": "ba915548-7ff8-413e-90f6-43f7e1a89907",
   "metadata": {},
   "outputs": [
    {
     "ename": "TypeError",
     "evalue": "'tuple' object does not support item assignment",
     "output_type": "error",
     "traceback": [
      "\u001b[0;31m---------------------------------------------------------------------------\u001b[0m",
      "\u001b[0;31mTypeError\u001b[0m                                 Traceback (most recent call last)",
      "Cell \u001b[0;32mIn[4], line 1\u001b[0m\n\u001b[0;32m----> 1\u001b[0m \u001b[43mt\u001b[49m\u001b[43m[\u001b[49m\u001b[38;5;241;43m0\u001b[39;49m\u001b[43m]\u001b[49m\u001b[38;5;241m=\u001b[39m\u001b[38;5;241m4\u001b[39m\n",
      "\u001b[0;31mTypeError\u001b[0m: 'tuple' object does not support item assignment"
     ]
    }
   ],
   "source": [
    "t[0]=4"
   ]
  },
  {
   "cell_type": "code",
   "execution_count": null,
   "id": "fbdbedf6-f6e6-48aa-9aad-1b4e52cdf0b6",
   "metadata": {},
   "outputs": [],
   "source": []
  }
 ],
 "metadata": {
  "kernelspec": {
   "display_name": "Python 3 (ipykernel)",
   "language": "python",
   "name": "python3"
  },
  "language_info": {
   "codemirror_mode": {
    "name": "ipython",
    "version": 3
   },
   "file_extension": ".py",
   "mimetype": "text/x-python",
   "name": "python",
   "nbconvert_exporter": "python",
   "pygments_lexer": "ipython3",
   "version": "3.10.8"
  }
 },
 "nbformat": 4,
 "nbformat_minor": 5
}
